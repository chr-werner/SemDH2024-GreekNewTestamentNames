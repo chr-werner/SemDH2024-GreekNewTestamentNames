{
 "cells": [
  {
   "cell_type": "markdown",
   "metadata": {},
   "source": [
    "# Download TEI files\n",
    "\n",
    "## 1 Installing needed packages\n",
    "\n",
    "When running on a remote JupyterLab, packages that are needed have to be explicitly installed:"
   ]
  },
  {
   "cell_type": "code",
   "metadata": {},
   "source": [
    "# Install a pip package in the current Jupyter kernel\n",
    "!pip install --quiet requests==2.32.3\n",
    "!pip install --quiet pandas==2.1.4\n",
    "!pip install --quiet tqdm==4.66.4\n",
    "\n",
    "from utils import (\n",
    "    fetch_and_extract_zip,\n",
    "    fetch_and_format_xml,\n",
    "    download_ntvmr_transcripts,\n",
    "    download_ntvmr_manuscripts,\n",
    "    get_docID_set,\n",
    ")\n",
    "from concurrent.futures import ProcessPoolExecutor, as_completed\n",
    "from tqdm.notebook import tqdm\n",
    "import time\n",
    "import os\n",
    "import glob"
   ],
   "outputs": [],
   "execution_count": null
  },
  {
   "cell_type": "markdown",
   "metadata": {},
   "source": "## 2 Download from IGNTP (transcriptions only)"
  },
  {
   "cell_type": "code",
   "metadata": {},
   "source": [
    "urls = [\n",
    "    \"http://www.iohannes.com/transcriptions/XML/greek/papyri.zip\",\n",
    "    \"http://www.iohannes.com/transcriptions/XML/greek/majuscules.zip\",\n",
    "    \"http://www.iohannes.com/transcriptions/XML/greek/minuscules.zip\",\n",
    "    \"http://www.iohannes.com/transcriptions/XML/greek/lectionaries.zip\",\n",
    "    # \"http://www.epistulae.org/downloads/Galatians_Greek_Transcriptions.zip\",\n",
    "    # \"http://www.epistulae.org/downloads/Ephesians_Greek_transcriptions.zip\",\n",
    "    # \"http://www.epistulae.org/downloads/Philippians_Greek_transcriptions.zip\",\n",
    "    \"https://itseeweb.cal.bham.ac.uk/epistulae/downloads/Romans_Greek_transcriptions.zip\",\n",
    "    \"https://itseeweb.cal.bham.ac.uk/epistulae/downloads/Galatians_Greek_transcriptions.zip\",\n",
    "    \"https://itseeweb.cal.bham.ac.uk/epistulae/downloads/Ephesians_Greek_transcriptions.zip\",\n",
    "    \"https://itseeweb.cal.bham.ac.uk/epistulae/downloads/Philippians_Greek_transcriptions.zip\",\n",
    "    \"https://itseeweb.cal.bham.ac.uk/epistulae/downloads/1Cor_Greek_transcriptions.zip\",\n",
    "]\n",
    "\n",
    "for url in urls:\n",
    "    fetch_and_extract_zip(url, \"../data/transcriptions/igntp\")\n",
    "\n",
    "# remove basetext files as they are not needed by getting a list of files matching the pattern\n",
    "files_to_delete = glob.glob(\n",
    "    os.path.join(\"../data/transcriptions/\", \"**\", \"*basetext*.xml\"), recursive=True\n",
    ")\n",
    "for file_path in files_to_delete:\n",
    "    print(f\"Delete {file_path}\")\n",
    "    os.remove(file_path)"
   ],
   "outputs": [],
   "execution_count": null
  },
  {
   "cell_type": "markdown",
   "metadata": {},
   "source": [
    "## 3 Download from NTVMR\n",
    "\n",
    "First we need to set up the ranges of documents to download"
   ]
  },
  {
   "cell_type": "code",
   "metadata": {
    "collapsed": false
   },
   "source": [
    "# the automated way\n",
    "url = \"https://ntvmr.uni-muenster.de/community/vmr/api/metadata/liste/get/\"\n",
    "fetch_and_format_xml(\n",
    "    url, \"../data/manuscripts/metadata_list.xml\", \"../data/manuscripts/errors.log\"\n",
    ")\n",
    "docID_set = get_docID_set(\"../data/manuscripts/metadata_list.xml\", all=False)\n",
    "\n",
    "# the manual way:\n",
    "# set docID ranges for different manuscript types\n",
    "# papyri = list(range(10001, 10151))\n",
    "# majuscules = list(range(20001, 20451))\n",
    "# minuscules = list(range(30001, 33021))\n",
    "# lectionaries = list(range(40001, 43001))\n",
    "\n",
    "# merge lists of docIDs\n",
    "# docID_list = papyri + majuscules + minuscules + lectionaries"
   ],
   "outputs": [],
   "execution_count": null
  },
  {
   "cell_type": "markdown",
   "metadata": {
    "collapsed": false
   },
   "source": [
    "### 3.1 Download manuscript data\n",
    "\n",
    "As there are many JSON files to be downloaded it is recommended (for a speedup) to run the download in parallel. Set 'max_workers' to the number of cpu cores you want to use."
   ]
  },
  {
   "cell_type": "code",
   "metadata": {},
   "source": [
    "data_path = \"../data/manuscripts/ntvmr\"\n",
    "error_log_file = \"../data/manuscripts/errors.log\"\n",
    "overwrite = True\n",
    "\n",
    "# Create the directory if it doesn't exist\n",
    "os.makedirs(data_path, exist_ok=True)\n",
    "\n",
    "# execute threadpool\n",
    "with ProcessPoolExecutor() as executor:\n",
    "    # Submit all tasks and keep track of the futures\n",
    "    futures = {\n",
    "        executor.submit(\n",
    "            download_ntvmr_manuscripts, docID, data_path, error_log_file, overwrite\n",
    "        ): docID\n",
    "        for docID in docID_set\n",
    "    }\n",
    "\n",
    "    # Use tqdm to show progress\n",
    "    for future in tqdm(as_completed(futures), total=len(futures)):\n",
    "        try:\n",
    "            # Optionally retrieve result or handle it\n",
    "            future.result()\n",
    "        except Exception as e:\n",
    "            # Handle exceptions if needed\n",
    "            print(f\"Exception occurred for {futures[future]}: {e}\")"
   ],
   "outputs": [],
   "execution_count": null
  },
  {
   "cell_type": "markdown",
   "metadata": {},
   "source": [
    "### 3.2 Download transcription data\n",
    "\n",
    "As there are many TEI files to be downloaded it is recommended (for a speedup) to run the download in parallel. Set 'max_workers' to the number of cpu cores you want to use."
   ]
  },
  {
   "cell_type": "code",
   "metadata": {},
   "source": [
    "data_path = \"../data/transcriptions/ntvmr\"\n",
    "error_log_file = \"../data/transcriptions/error.log\"\n",
    "overwrite = True\n",
    "\n",
    "# Create the directory if it doesn't exist\n",
    "os.makedirs(data_path, exist_ok=True)\n",
    "\n",
    "# execute threadpool\n",
    "with ProcessPoolExecutor() as executor:\n",
    "    # Submit all tasks and keep track of the futures\n",
    "    futures = {\n",
    "        executor.submit(\n",
    "            download_ntvmr_transcripts, docID, data_path, error_log_file, overwrite\n",
    "        ): docID\n",
    "        for docID in docID_set\n",
    "    }\n",
    "\n",
    "    # Use tqdm to show progress\n",
    "    for future in tqdm(as_completed(futures), total=len(futures)):\n",
    "        try:\n",
    "            # Optionally retrieve result or handle it\n",
    "            future.result()\n",
    "        except Exception as e:\n",
    "            # Handle exceptions if needed\n",
    "            print(f\"Exception occurred for {futures[future]}: {e}\")"
   ],
   "outputs": [],
   "execution_count": null
  }
 ],
 "metadata": {
  "kernelspec": {
   "display_name": "venv",
   "language": "python",
   "name": "python3"
  },
  "language_info": {
   "codemirror_mode": {
    "name": "ipython",
    "version": 3
   },
   "file_extension": ".py",
   "mimetype": "text/x-python",
   "name": "python",
   "nbconvert_exporter": "python",
   "pygments_lexer": "ipython3",
   "version": "3.12.1"
  }
 },
 "nbformat": 4,
 "nbformat_minor": 2
}
