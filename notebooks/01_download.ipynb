{
 "cells": [
  {
   "cell_type": "markdown",
   "metadata": {},
   "source": [
    "# Download TEI files\n",
    "\n",
    "## 1 Installing and importing needed modules\n",
    "\n",
    "When running on a remote JupyterLab, packages that are needed have to be explicitly installed:"
   ]
  },
  {
   "cell_type": "code",
   "execution_count": null,
   "metadata": {},
   "outputs": [],
   "source": [
    "# Install a pip package in the current Jupyter kernel\n",
    "import sys\n",
    "\n",
    "!{sys.executable} -m pip install requests==2.31.0\n",
    "!{sys.executable} -m pip install pandas==2.1.4\n",
    "\n",
    "from utils import (\n",
    "    fetch_and_extract_zip,\n",
    "    fetch_and_format_xml,\n",
    "    download_ntvmr_transcripts,\n",
    "    download_ntvmr_manuscripts,\n",
    "    get_docID_set,\n",
    ")\n",
    "from concurrent.futures import ProcessPoolExecutor\n",
    "import getpass\n",
    "import time\n",
    "import os\n",
    "import xml.etree.ElementTree as ET"
   ]
  },
  {
   "cell_type": "markdown",
   "metadata": {},
   "source": [
    "## 3 Download from IGNTP (transcriptions only)"
   ]
  },
  {
   "cell_type": "code",
   "execution_count": null,
   "metadata": {},
   "outputs": [],
   "source": [
    "urls = [\n",
    "    \"http://www.iohannes.com/transcriptions/XML/greek/papyri.zip\",\n",
    "    \"http://www.iohannes.com/transcriptions/XML/greek/majuscules.zip\",\n",
    "    \"http://www.iohannes.com/transcriptions/XML/greek/minuscules.zip\",\n",
    "    \"http://www.iohannes.com/transcriptions/XML/greek/lectionaries.zip\",\n",
    "    # \"http://www.epistulae.org/downloads/Galatians_Greek_Transcriptions.zip\",\n",
    "    # \"http://www.epistulae.org/downloads/Ephesians_Greek_transcriptions.zip\",\n",
    "    # \"http://www.epistulae.org/downloads/Philippians_Greek_transcriptions.zip\",\n",
    "    \"https://itseeweb.cal.bham.ac.uk/epistulae/downloads/Romans_Greek_transcriptions.zip\",\n",
    "    \"https://itseeweb.cal.bham.ac.uk/epistulae/downloads/Galatians_Greek_transcriptions.zip\",\n",
    "    \"https://itseeweb.cal.bham.ac.uk/epistulae/downloads/Ephesians_Greek_transcriptions.zip\",\n",
    "    \"https://itseeweb.cal.bham.ac.uk/epistulae/downloads/Philippians_Greek_transcriptions.zip\",\n",
    "    #\"https://itseeweb.cal.bham.ac.uk/epistulae/downloads/1Cor_Greek_transcriptions.zip\",\n",
    "]\n",
    "\n",
    "for url in urls:\n",
    "    fetch_and_extract_zip(url, \"../data/transcriptions/igntp\")\n",
    "\n",
    "# remove basetext as it is not needed and is just throwing errors\n",
    "try:\n",
    "    os.remove(\"../data/transcriptions/igntp/ecm_galatians/NT_GRC_basetext_Gal.xml\")\n",
    "except FileNotFoundError:\n",
    "    print(\"nothing to delete\")"
   ]
  },
  {
   "cell_type": "markdown",
   "metadata": {},
   "source": [
    "## 4 Download from NTVMR\n",
    "\n",
    "First we need to set up the ranges of documents to download"
   ]
  },
  {
   "cell_type": "code",
   "execution_count": null,
   "metadata": {
    "collapsed": false
   },
   "outputs": [],
   "source": [
    "# the automated way\n",
    "url = \"https://ntvmr.uni-muenster.de/community/vmr/api/metadata/liste/get/\"\n",
    "fetch_and_format_xml(\n",
    "    url, \"../data/manuscripts/metadata_list.xml\", \"../data/manuscripts/errors.txt\"\n",
    ")\n",
    "docID_set = get_docID_set(\"../data/manuscripts/metadata_list.xml\")\n",
    "\n",
    "# the manual way:\n",
    "# set docID ranges for different manuscript types\n",
    "# papyri = list(range(10001, 10151))\n",
    "# majuscules = list(range(20001, 20451))\n",
    "# minuscules = list(range(30001, 33021))\n",
    "# lectionaries = list(range(40001, 43001))\n",
    "\n",
    "# merge lists of docIDs\n",
    "# docID_list = papyri + majuscules + minuscules + lectionaries"
   ]
  },
  {
   "cell_type": "markdown",
   "metadata": {
    "collapsed": false
   },
   "source": [
    "### 4.1 Download manuscript data\n",
    "\n",
    "As there are many JSON files to be downloaded it is recommended (for a speedup) to run the download in parallel. Set `max_workers` to the number of cpu cores you want to use."
   ]
  },
  {
   "cell_type": "code",
   "execution_count": null,
   "metadata": {},
   "outputs": [],
   "source": [
    "data_path = \"../data/manuscripts/ntvmr\"\n",
    "error_log_file = \"../data/manuscripts/error.log\"\n",
    "overwrite = True\n",
    "\n",
    "# Create the directory if it doesn't exist\n",
    "os.makedirs(data_path, exist_ok=True)\n",
    "\n",
    "# print local time\n",
    "print(time.localtime())\n",
    "\n",
    "# Record the start time\n",
    "tic = time.time()\n",
    "\n",
    "# execute threadpool\n",
    "with ProcessPoolExecutor(max_workers=16) as executor:\n",
    "    # Submitting the function with arguments to the executor for each docID\n",
    "    for docID in docID_set:\n",
    "        executor.submit(\n",
    "            download_ntvmr_manuscripts, docID, data_path, error_log_file, overwrite\n",
    "        )\n",
    "\n",
    "# Record the end time\n",
    "toc = time.time()\n",
    "# Calculate the runtime\n",
    "runtime = toc - tic\n",
    "print(f\"The script took {runtime:.4f} seconds to execute.\")\n",
    "\n",
    "# takes ~10min on 16 cores"
   ]
  },
  {
   "cell_type": "markdown",
   "metadata": {},
   "source": [
    "### 4.2 Download transcription data\n",
    "\n",
    "As there are many TEI files to be downloaded it is recommended (for a speedup) to run the download in parallel. Set `max_workers` to the number of cpu cores you want to use."
   ]
  },
  {
   "cell_type": "code",
   "execution_count": null,
   "metadata": {},
   "outputs": [],
   "source": [
    "data_path = \"../data/transcriptions/ntvmr\"\n",
    "error_log_file = \"../data/transcriptions/error.log\"\n",
    "overwrite = False\n",
    "\n",
    "# Create the directory if it doesn't exist\n",
    "os.makedirs(data_path, exist_ok=True)\n",
    "\n",
    "# print local time\n",
    "print(time.localtime())\n",
    "\n",
    "# Record the start time\n",
    "tic = time.time()\n",
    "\n",
    "# execute threadpool\n",
    "with ProcessPoolExecutor(max_workers=16) as executor:\n",
    "    # Submitting the function with arguments to the executor for each docID\n",
    "    for docID in docID_set:\n",
    "        executor.submit(\n",
    "            download_ntvmr_transcripts, docID, data_path, error_log_file, overwrite\n",
    "        )\n",
    "\n",
    "# Record the end time\n",
    "toc = time.time()\n",
    "# Calculate the runtime\n",
    "runtime = toc - tic\n",
    "print(f\"The script took {runtime:.4f} seconds to execute.\")\n",
    "\n",
    "# takes ~27min on 16 cores"
   ]
  }
 ],
 "metadata": {
  "kernelspec": {
   "display_name": "venv",
   "language": "python",
   "name": "python3"
  },
  "language_info": {
   "codemirror_mode": {
    "name": "ipython",
    "version": 3
   },
   "file_extension": ".py",
   "mimetype": "text/x-python",
   "name": "python",
   "nbconvert_exporter": "python",
   "pygments_lexer": "ipython3",
   "version": "3.12.1"
  }
 },
 "nbformat": 4,
 "nbformat_minor": 2
}
