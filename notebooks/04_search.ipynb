{
 "cells": [
  {
   "cell_type": "markdown",
   "metadata": {
    "collapsed": false,
    "jupyter": {
     "outputs_hidden": false
    }
   },
   "source": [
    "# Search for occurrences and omissions of names"
   ]
  },
  {
   "cell_type": "markdown",
   "metadata": {
    "collapsed": false,
    "jupyter": {
     "outputs_hidden": false
    }
   },
   "source": [
    "## 1 Installing needed packages\n",
    "\n",
    "When running on a remote JupyterLab, packages that are needed have to be explicitly installed:"
   ]
  },
  {
   "cell_type": "code",
   "metadata": {},
   "source": [
    "# Install a pip package in the current Jupyter kernel\n",
    "!pip install --quiet pandas==2.1.4\n",
    "!pip install --quiet flair==0.13.1\n",
    "!pip install --quiet scipy==1.10.1\n",
    "!pip install --quiet torch==2.1.2\n",
    "!pip install --quiet swifter==1.4.0\n",
    "!pip install --quiet tqdm==4.66.4\n",
    "\n",
    "import pandas as pd\n",
    "import concurrent.futures\n",
    "from utils import process_bkv\n",
    "from tqdm.notebook import tqdm"
   ],
   "outputs": [],
   "execution_count": null
  },
  {
   "cell_type": "markdown",
   "metadata": {
    "collapsed": false,
    "jupyter": {
     "outputs_hidden": false
    }
   },
   "source": [
    "## 2 Read data from files"
   ]
  },
  {
   "cell_type": "code",
   "metadata": {
    "collapsed": false,
    "jupyter": {
     "outputs_hidden": false
    }
   },
   "source": [
    "# data files\n",
    "verses_data = \"../data/verses.csv\"\n",
    "word_data = \"../data/words.csv\"\n",
    "\n",
    "# Read CSV files into a DataFrames\n",
    "verses_df = pd.read_csv(\n",
    "    verses_data,\n",
    "    low_memory=False,\n",
    "    dtype={\n",
    "        \"ga\": \"string\",\n",
    "        \"bkv\": \"string\",\n",
    "        \"transcript\": \"string\",\n",
    "        \"text\": \"string\",\n",
    "        \"lection\": \"string\",\n",
    "        \"publisher\": \"string\",\n",
    "        \"source\": \"string\",\n",
    "        \"edition_version\": \"float\",\n",
    "        \"verse_id\": \"Int64\",\n",
    "    },\n",
    "    usecols=[\n",
    "        \"ga\",\n",
    "        \"bkv\",\n",
    "        \"transcript\",\n",
    "        \"text\",\n",
    "        \"lection\",\n",
    "        \"publisher\",\n",
    "        \"source\",\n",
    "        \"edition_version\",\n",
    "        \"verse_id\",\n",
    "    ],\n",
    ")\n",
    "words_df = pd.read_csv(\n",
    "    word_data,\n",
    "    low_memory=False,\n",
    "    dtype={\n",
    "        \"label:en\": \"string\",\n",
    "        \"label:el:norm\": \"string\",\n",
    "        \"gender\": \"string\",\n",
    "        \"variant\": \"string\",\n",
    "        \"wordID\": \"Int64\",\n",
    "        \"variantID\": \"Int64\",\n",
    "        \"factgrid\": \"string\",\n",
    "    },\n",
    "    usecols=[\n",
    "        \"label:en\",\n",
    "        \"label:el:norm\",\n",
    "        \"gender\",\n",
    "        \"variant\",\n",
    "        \"wordID\",\n",
    "        \"variantID\",\n",
    "    ],\n",
    ")"
   ],
   "outputs": [],
   "execution_count": null
  },
  {
   "cell_type": "markdown",
   "metadata": {
    "collapsed": false,
    "jupyter": {
     "outputs_hidden": false
    }
   },
   "source": [
    "## 3 Search for omissions and occurrences by bkv "
   ]
  },
  {
   "cell_type": "code",
   "metadata": {
    "collapsed": false,
    "jupyter": {
     "outputs_hidden": false
    }
   },
   "source": [
    "overwrite = True\n",
    "\n",
    "# Get unique values from the 'bkv' column\n",
    "unique_bkvs = verses_df[\"bkv\"].unique()\n",
    "# unique_bkvs = [\"B01K12V22\"]\n",
    "print(f\"number of verse names: {len(unique_bkvs)}\")\n",
    "\n",
    "# Initialize tqdm for the progress bar\n",
    "total_bkvs = len(unique_bkvs)\n",
    "\n",
    "# Execute tasks and gather results\n",
    "with concurrent.futures.ProcessPoolExecutor() as executor:\n",
    "    # Submit tasks and collect futures\n",
    "    futures = [\n",
    "        executor.submit(\n",
    "            process_bkv, bkv, \"../data/occurrences\", verses_df, words_df, overwrite\n",
    "        )\n",
    "        for bkv in unique_bkvs\n",
    "    ]\n",
    "\n",
    "    progress_bar = tqdm(total=total_bkvs, desc=\"Processing\")\n",
    "\n",
    "    # Gather results\n",
    "    for future in concurrent.futures.as_completed(futures):\n",
    "        progress_bar.update(1)  # Update the progress bar\n",
    "\n",
    "    # Close the progress bar\n",
    "    progress_bar.close()"
   ],
   "outputs": [],
   "execution_count": null
  },
  {
   "cell_type": "markdown",
   "metadata": {
    "collapsed": false,
    "jupyter": {
     "outputs_hidden": false
    }
   },
   "source": [
    "## 4 Merging multiple csv files to one\n",
    "Concatenating with `awk` (obviously it needs to be installed) is done, as we know all files do have the same header. Also, this is computationally more efficient than first reading each file into a pd.DataFrame and then merging those into one."
   ]
  },
  {
   "metadata": {},
   "cell_type": "code",
   "source": "!awk 'FNR==1 && NR!=1 { next; } { print }' ../data/occurrences/B*.csv > ../data/occurrences.csv",
   "outputs": [],
   "execution_count": null
  }
 ],
 "metadata": {
  "kernelspec": {
   "display_name": "Python 3 (ipykernel)",
   "language": "python",
   "name": "python3"
  },
  "language_info": {
   "codemirror_mode": {
    "name": "ipython",
    "version": 3
   },
   "file_extension": ".py",
   "mimetype": "text/x-python",
   "name": "python",
   "nbconvert_exporter": "python",
   "pygments_lexer": "ipython3",
   "version": "3.11.7"
  }
 },
 "nbformat": 4,
 "nbformat_minor": 4
}
