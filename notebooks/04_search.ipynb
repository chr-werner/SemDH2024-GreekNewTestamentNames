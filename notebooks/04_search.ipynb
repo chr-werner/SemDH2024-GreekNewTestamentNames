{
 "cells": [
  {
   "cell_type": "markdown",
   "metadata": {
    "collapsed": false
   },
   "source": [
    "# Search for occurrences and omissions of names"
   ]
  },
  {
   "cell_type": "markdown",
   "metadata": {
    "collapsed": false
   },
   "source": [
    "## 1 Installing and importing needed modules\n",
    "\n",
    "When running on a remote JupyterLab, packages that are needed have to be explicitly installed:"
   ]
  },
  {
   "cell_type": "code",
   "execution_count": null,
   "metadata": {},
   "outputs": [],
   "source": [
    "# Install a pip package in the current Jupyter kernel\n",
    "import sys\n",
    "\n",
    "!{sys.executable} -m pip install pandas==2.1.4\n",
    "\n",
    "from concurrent.futures import ProcessPoolExecutor\n",
    "import pandas as pd\n",
    "import time\n",
    "import glob\n",
    "import re\n",
    "import os\n",
    "from pathlib import Path\n",
    "\n",
    "\n",
    "from utils import process_bkv"
   ]
  },
  {
   "cell_type": "markdown",
   "metadata": {
    "collapsed": false
   },
   "source": [
    "## 2 Read data from files"
   ]
  },
  {
   "cell_type": "code",
   "execution_count": null,
   "metadata": {
    "collapsed": false
   },
   "outputs": [],
   "source": [
    "# data files\n",
    "verses_data = \"../data/verses.csv\"\n",
    "word_data = \"../data/names.csv\"\n",
    "\n",
    "# Read CSV files into a DataFrames\n",
    "verses_df = pd.read_csv(\n",
    "    verses_data,\n",
    "    low_memory=False,\n",
    "    dtype={\n",
    "        \"docID\": \"int32\",\n",
    "        \"ga\": \"string\",\n",
    "        \"bkv\": \"string\",\n",
    "        \"nkv\": \"string\",\n",
    "        \"text\": \"string\",\n",
    "        \"marks\": \"string\",\n",
    "        \"publisher\": \"string\",\n",
    "        \"source\": \"string\",\n",
    "        \"ntvmrLink\": \"string\",\n",
    "    },\n",
    ")\n",
    "gendervoc_df = pd.read_csv(\n",
    "    word_data,\n",
    "    low_memory=False,\n",
    "    dtype={\n",
    "        \"label:en\": \"string\",\n",
    "        \"label:el\": \"string\",\n",
    "        \"alternatives\": \"string\",\n",
    "        \"gender\": \"string\",\n",
    "        \"variant\": \"string\",\n",
    "        \"variants\": \"string\",\n",
    "        \"type\": \"string\",\n",
    "        \"wordID\": \"int64\",\n",
    "        \"variantID\": \"int64\",\n",
    "        \"factgrid\": \"string\",\n",
    "    },\n",
    "    usecols=[\n",
    "        \"label:en\",\n",
    "        \"label:el\",\n",
    "        \"gender\",\n",
    "        \"variant\",\n",
    "        \"variants\",\n",
    "        \"wordID\",\n",
    "        \"variantID\",\n",
    "        \"factgrid\",\n",
    "    ],\n",
    ")"
   ]
  },
  {
   "cell_type": "markdown",
   "metadata": {
    "collapsed": false
   },
   "source": [
    "## 3 Search for omissions and occurrences by bkv "
   ]
  },
  {
   "cell_type": "code",
   "execution_count": null,
   "metadata": {},
   "outputs": [],
   "source": [
    "# Record the start time\n",
    "start_time = time.time()\n",
    "\n",
    "# Get unique values from the 'bkv' column\n",
    "unique_bkvs = verses_df[\"bkv\"].unique()\n",
    "print(f\"number of verse names: {len(unique_bkvs)}\")\n",
    "\n",
    "# execute threadpool\n",
    "with ProcessPoolExecutor(max_workers=10) as executor:\n",
    "    for bkv in unique_bkvs:\n",
    "        # if file does not exist\n",
    "        # if not Path(f\"../data/occurrences/{bkv}.csv\").exists():\n",
    "        # Submitting the function with arguments to the executor for each docID\n",
    "        executor.submit(\n",
    "            process_bkv, bkv, \"../data/occurrences\", verses_df, gendervoc_df\n",
    "        )\n",
    "\n",
    "# Record the end time\n",
    "end_time = time.time()\n",
    "# Calculate the runtime\n",
    "runtime = end_time - start_time\n",
    "print(f\"The script took {runtime:.4f} seconds to execute.\")\n",
    "\n",
    "# on server: 5128sec\n",
    "# on laptop: 10043sec"
   ]
  },
  {
   "cell_type": "markdown",
   "metadata": {
    "collapsed": false
   },
   "source": [
    "## 4 Merging multiple csv files to one"
   ]
  },
  {
   "cell_type": "code",
   "execution_count": null,
   "metadata": {},
   "outputs": [],
   "source": [
    "# setting the path for joining multiple files\n",
    "files = os.path.join(\"../data/occurrences\", \"B*.csv\")\n",
    "# list of merged files returned\n",
    "files = glob.glob(files)\n",
    "# joining files with concat and read_csv\n",
    "df = pd.concat(map(pd.read_csv, files), ignore_index=True)\n",
    "# drop duplicate rows\n",
    "df.drop_duplicates(inplace=True, ignore_index=True)\n",
    "# drop not needed columns, as docID/bkv/text is 'primary key'\n",
    "df.drop(\n",
    "    columns=[\"docID\", \"nkv\", \"marks\", \"publisher\", \"source\", \"ntvmrLink\"],\n",
    "    inplace=True,\n",
    ")\n",
    "\n",
    "# write to csv\n",
    "df.to_csv(\"../data/occurrences.csv\", index=False)"
   ]
  }
 ],
 "metadata": {
  "kernelspec": {
   "display_name": "Python 3 (ipykernel)",
   "language": "python",
   "name": "python3"
  },
  "language_info": {
   "codemirror_mode": {
    "name": "ipython",
    "version": 3
   },
   "file_extension": ".py",
   "mimetype": "text/x-python",
   "name": "python",
   "nbconvert_exporter": "python",
   "pygments_lexer": "ipython3",
   "version": "3.11.7"
  }
 },
 "nbformat": 4,
 "nbformat_minor": 4
}
