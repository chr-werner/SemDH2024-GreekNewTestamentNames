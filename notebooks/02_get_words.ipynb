{
 "cells": [
  {
   "cell_type": "markdown",
   "metadata": {},
   "source": [
    "# Get/Generate words for search\n"
   ]
  },
  {
   "cell_type": "markdown",
   "metadata": {},
   "source": [
    "\n",
    "## 1 Installing needed packages\n",
    "\n",
    "When running on a remote JupyterLab, packages that are needed have to be explicitly installed:"
   ]
  },
  {
   "cell_type": "code",
   "metadata": {},
   "source": [
    "# Install a pip package in the current Jupyter kernel\n",
    "import sys\n",
    "\n",
    "!pip install --quiet pandas==2.1.4\n",
    "\n",
    "import pandas as pd\n",
    "import unicodedata"
   ],
   "outputs": [],
   "execution_count": null
  },
  {
   "cell_type": "markdown",
   "metadata": {},
   "source": "## 2 Read/Preprocess data \n"
  },
  {
   "cell_type": "code",
   "metadata": {},
   "source": [
    "names_df = pd.read_csv(\n",
    "    \"../data/tables/names.csv\",\n",
    "    sep=\",\",\n",
    "    usecols=[\n",
    "        \"label:en\",\n",
    "        \"gender\",\n",
    "        \"label:el\",\n",
    "        \"label:el:norm\",\n",
    "        \"alternatives\",\n",
    "        \"Nom Sg\",\n",
    "        \"Gen Sg\",\n",
    "        \"Dat Sg\",\n",
    "        \"Akk Sg\",\n",
    "        \"Voc Sg\",\n",
    "        \"factgrid\",\n",
    "    ],\n",
    ")\n",
    "\n",
    "nominals_df = pd.read_csv(\n",
    "    \"../data/tables/nominals.csv\",\n",
    "    sep=\",\",\n",
    "    usecols=[\n",
    "        \"label:en\",\n",
    "        \"gender\",\n",
    "        \"label:el\",\n",
    "        \"Nom Sg\",\n",
    "        \"Gen Sg\",\n",
    "        \"Dat Sg\",\n",
    "        \"Akk Sg\",\n",
    "        \"Voc Sg\",\n",
    "        \"Nom Pl\",\n",
    "        \"Gen Pl\",\n",
    "        \"Dat Pl\",\n",
    "        \"Akk Pl\",\n",
    "        \"Voc Pl\",\n",
    "    ],\n",
    ")"
   ],
   "outputs": [],
   "execution_count": null
  },
  {
   "cell_type": "markdown",
   "metadata": {
    "collapsed": false
   },
   "source": [
    "### 2.1 Remove rows with empty greek label"
   ]
  },
  {
   "cell_type": "code",
   "metadata": {
    "collapsed": false
   },
   "source": [
    "names_df.dropna(subset=[\"label:el\"], how=\"any\", inplace=True, ignore_index=True)\n",
    "nominals_df.dropna(subset=[\"label:el\"], how=\"any\", inplace=True, ignore_index=True)"
   ],
   "outputs": [],
   "execution_count": null
  },
  {
   "cell_type": "markdown",
   "metadata": {},
   "source": [
    "### 2.2 Remove diacritics and merge column data\n",
    "As the transcripted text contains no accents and is completely lowercase, diacritcs have to be removed from data collected on persons. All cases and alternative spellings get merged into a column named 'variants' to remove identical forms\n"
   ]
  },
  {
   "metadata": {},
   "cell_type": "code",
   "source": [
    "def str_remove_diacritics(s: str) -> str:\n",
    "    return \"\".join(\n",
    "        c for c in unicodedata.normalize(\"NFKD\", s) if unicodedata.category(c) != \"Mn\"\n",
    "    ).lower()\n",
    "\n",
    "\n",
    "def df_remove_diacritics(df: pd.DataFrame, columns: list):\n",
    "    # remove diacritics from all columns named in columns_to_process\n",
    "    for col in columns:\n",
    "        df[col] = df[col].apply(\n",
    "            lambda x: str_remove_diacritics(x) if pd.notnull(x) else x\n",
    "        )\n",
    "\n",
    "\n",
    "def columns_to_set(row) -> set:\n",
    "    filtered_list = [e for elem in row if pd.notnull(elem) for e in elem.split(\",\")]\n",
    "    return set(filtered_list)"
   ],
   "outputs": [],
   "execution_count": null
  },
  {
   "cell_type": "code",
   "metadata": {},
   "source": [
    "columns = [\n",
    "    \"label:el\",\n",
    "    \"Nom Sg\",\n",
    "    \"Gen Sg\",\n",
    "    \"Dat Sg\",\n",
    "    \"Akk Sg\",\n",
    "    \"Voc Sg\",\n",
    "    \"alternatives\",\n",
    "]\n",
    "\n",
    "df_remove_diacritics(names_df, columns)\n",
    "# Applying the function to merge columns\n",
    "names_df[\"variants\"] = names_df[columns].apply(columns_to_set, axis=1)"
   ],
   "outputs": [],
   "execution_count": null
  },
  {
   "metadata": {},
   "cell_type": "code",
   "source": [
    "columns = [\n",
    "    \"label:el\",\n",
    "    \"Nom Sg\",\n",
    "    \"Gen Sg\",\n",
    "    \"Dat Sg\",\n",
    "    \"Akk Sg\",\n",
    "    \"Voc Sg\",\n",
    "    \"Nom Pl\",\n",
    "    \"Gen Pl\",\n",
    "    \"Dat Pl\",\n",
    "    \"Akk Pl\",\n",
    "    \"Voc Pl\",\n",
    "]\n",
    "\n",
    "df_remove_diacritics(nominals_df, columns)\n",
    "nominals_df[\"label:el:norm\"] = nominals_df[\"label:el\"]\n",
    "# Applying the function to merge columns\n",
    "nominals_df[\"variants\"] = nominals_df[columns].apply(columns_to_set, axis=1)"
   ],
   "outputs": [],
   "execution_count": null
  },
  {
   "metadata": {},
   "cell_type": "code",
   "source": [
    "# drop merged columns\n",
    "names_df.drop(\n",
    "    labels=[\n",
    "        \"label:el\",\n",
    "        \"Nom Sg\",\n",
    "        \"Gen Sg\",\n",
    "        \"Dat Sg\",\n",
    "        \"Akk Sg\",\n",
    "        \"Voc Sg\",\n",
    "        \"alternatives\",\n",
    "    ],\n",
    "    axis=1,\n",
    "    inplace=True,\n",
    ")\n",
    "\n",
    "nominals_df.drop(\n",
    "    labels=[\n",
    "        \"label:el\",\n",
    "        \"Nom Sg\",\n",
    "        \"Gen Sg\",\n",
    "        \"Dat Sg\",\n",
    "        \"Akk Sg\",\n",
    "        \"Voc Sg\",\n",
    "        \"Nom Pl\",\n",
    "        \"Gen Pl\",\n",
    "        \"Dat Pl\",\n",
    "        \"Akk Pl\",\n",
    "        \"Voc Pl\",\n",
    "    ],\n",
    "    axis=1,\n",
    "    inplace=True,\n",
    ")"
   ],
   "outputs": [],
   "execution_count": null
  },
  {
   "cell_type": "markdown",
   "metadata": {},
   "source": "### 2.3 Add type"
  },
  {
   "cell_type": "code",
   "metadata": {},
   "source": [
    "names_df[\"type\"] = \"name\"\n",
    "nominals_df[\"type\"] = \"nominal\""
   ],
   "outputs": [],
   "execution_count": null
  },
  {
   "metadata": {},
   "cell_type": "markdown",
   "source": "### 2.4 Merge dataframes"
  },
  {
   "metadata": {},
   "cell_type": "code",
   "source": "merged_df = pd.concat([names_df, nominals_df])",
   "outputs": [],
   "execution_count": null
  },
  {
   "cell_type": "markdown",
   "source": [
    "### 2.5 Explode by name"
   ],
   "metadata": {
    "collapsed": false
   }
  },
  {
   "cell_type": "code",
   "source": [
    "# add index for words\n",
    "merged_df[\"wordID\"] = range(0, len(merged_df))\n",
    "merged_df = merged_df.rename(columns={\"variants\": \"variant\"})\n",
    "# explode name_df by column variant\n",
    "merged_df = merged_df.explode(\"variant\").reset_index()\n",
    "# Adding a new column 'variantID' with unique numbers for each variant (row)\n",
    "merged_df[\"variantID\"] = range(0, len(merged_df))"
   ],
   "metadata": {
    "collapsed": false
   },
   "outputs": [],
   "execution_count": null
  },
  {
   "cell_type": "markdown",
   "metadata": {
    "collapsed": false
   },
   "source": [
    "### 2.6 Remove factgrid link to keep entity numbers only"
   ]
  },
  {
   "cell_type": "code",
   "metadata": {
    "collapsed": false
   },
   "source": [
    "# split factgrid string on ,\n",
    "# Splitting strings in the column based on comma and converting them into sets\n",
    "merged_df[\"factgrid\"] = (\n",
    "    merged_df[\"factgrid\"].astype(str).apply(lambda x: set(x.split(\",\")))\n",
    ")\n",
    "# Exploding the sets in the column\n",
    "merged_df = merged_df.explode(\"factgrid\")\n",
    "# Removing the substring from all strings in the column\n",
    "merged_df[\"factgrid\"] = merged_df[\"factgrid\"].str.replace(\n",
    "    \"https://database.factgrid.de/entity/\", \"\"\n",
    ")"
   ],
   "outputs": [],
   "execution_count": null
  },
  {
   "cell_type": "markdown",
   "metadata": {},
   "source": "## 3 Write to file"
  },
  {
   "cell_type": "code",
   "metadata": {
    "collapsed": false
   },
   "source": [
    "# drop not needed column index (as it has already been updated) from dataframe\n",
    "merged_df.drop(columns=[\"index\"], inplace=True)\n",
    "# write to csv file\n",
    "merged_df.to_csv(\"../data/words.csv\", index=False)"
   ],
   "outputs": [],
   "execution_count": null
  }
 ],
 "metadata": {
  "kernelspec": {
   "display_name": "Python 3 (ipykernel)",
   "language": "python",
   "name": "python3"
  },
  "language_info": {
   "codemirror_mode": {
    "name": "ipython",
    "version": 3
   },
   "file_extension": ".py",
   "mimetype": "text/x-python",
   "name": "python",
   "nbconvert_exporter": "python",
   "pygments_lexer": "ipython3",
   "version": "3.12.1"
  }
 },
 "nbformat": 4,
 "nbformat_minor": 4
}
