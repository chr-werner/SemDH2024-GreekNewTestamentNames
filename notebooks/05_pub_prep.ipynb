{
 "cells": [
  {
   "metadata": {},
   "cell_type": "markdown",
   "source": "By getting the first line of each file, we do get the respective column names from which we then can select the ones to be excluded in the files to be published",
   "id": "fd0128809f7d3708"
  },
  {
   "metadata": {},
   "cell_type": "code",
   "source": [
    "!echo \"---- verses:\"\n",
    "!head -1 ../data/verses.csv\n",
    "!echo \"---- occurrences:\"\n",
    "!head -1 ../data/occurrences.csv\n",
    "!echo \"---- words:\"\n",
    "!head -1 ../data/words.csv\n",
    "!echo \"---- manuscripts:\"\n",
    "!head -1 ../data/manuscripts.csv"
   ],
   "id": "3bc8e505ea301c6a",
   "outputs": [],
   "execution_count": null
  },
  {
   "metadata": {},
   "cell_type": "code",
   "source": [
    "!cut -d ',' -f 1,4-7,9-11 ../data/manuscripts.csv > ../data/out/manuscripts.csv\n",
    "!cut -d ',' -f 7- ../data/occurrences.csv > ../data/out/occurrences.csv"
   ],
   "id": "1b20a758c7c5ac5b",
   "outputs": [],
   "execution_count": null
  },
  {
   "metadata": {},
   "cell_type": "code",
   "source": [
    "#!echo \"---- verses:\"\n",
    "#!head -1 ../data/out/verses.csv\n",
    "!echo \"---- occurrences:\"\n",
    "!head -1 ../data/out/occurrences.csv\n",
    "#!echo \"---- words:\"\n",
    "#!head -1 ../data/out/words.csv\n",
    "!echo \"---- manuscripts:\"\n",
    "!head -1 ../data/out/manuscripts.csv"
   ],
   "id": "c398ab94d08388c5",
   "outputs": [],
   "execution_count": null
  },
  {
   "metadata": {},
   "cell_type": "code",
   "source": "",
   "id": "b60360e9a8fb19a8",
   "outputs": [],
   "execution_count": null
  }
 ],
 "metadata": {
  "kernelspec": {
   "display_name": "Python 3",
   "language": "python",
   "name": "python3"
  },
  "language_info": {
   "codemirror_mode": {
    "name": "ipython",
    "version": 2
   },
   "file_extension": ".py",
   "mimetype": "text/x-python",
   "name": "python",
   "nbconvert_exporter": "python",
   "pygments_lexer": "ipython2",
   "version": "2.7.6"
  }
 },
 "nbformat": 4,
 "nbformat_minor": 5
}
