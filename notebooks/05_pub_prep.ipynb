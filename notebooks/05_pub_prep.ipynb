{
 "cells": [
  {
   "cell_type": "code",
   "execution_count": 1,
   "id": "initial_id",
   "metadata": {
    "ExecuteTime": {
     "end_time": "2024-03-14T16:46:19.561867Z",
     "start_time": "2024-03-14T16:46:17.718710Z"
    },
    "collapsed": true
   },
   "outputs": [
    {
     "name": "stdout",
     "output_type": "stream",
     "text": [
      "Requirement already satisfied: pandas==2.1.4 in /home/werchr/HSW/Research/D20230829-NT_GenderData-CW/.venv/lib/python3.12/site-packages (2.1.4)\r\n",
      "Requirement already satisfied: numpy<2,>=1.26.0 in /home/werchr/HSW/Research/D20230829-NT_GenderData-CW/.venv/lib/python3.12/site-packages (from pandas==2.1.4) (1.26.2)\r\n",
      "Requirement already satisfied: python-dateutil>=2.8.2 in /home/werchr/HSW/Research/D20230829-NT_GenderData-CW/.venv/lib/python3.12/site-packages (from pandas==2.1.4) (2.8.2)\r\n",
      "Requirement already satisfied: pytz>=2020.1 in /home/werchr/HSW/Research/D20230829-NT_GenderData-CW/.venv/lib/python3.12/site-packages (from pandas==2.1.4) (2023.3.post1)\r\n",
      "Requirement already satisfied: tzdata>=2022.1 in /home/werchr/HSW/Research/D20230829-NT_GenderData-CW/.venv/lib/python3.12/site-packages (from pandas==2.1.4) (2023.4)\r\n",
      "Requirement already satisfied: six>=1.5 in /home/werchr/HSW/Research/D20230829-NT_GenderData-CW/.venv/lib/python3.12/site-packages (from python-dateutil>=2.8.2->pandas==2.1.4) (1.16.0)\r\n"
     ]
    }
   ],
   "source": [
    "# Install pip packages in the current Jupyter kernel\n",
    "import sys\n",
    "\n",
    "!{sys.executable} -m pip install pandas==2.1.4\n",
    "\n",
    "import pandas as pd"
   ]
  },
  {
   "cell_type": "code",
   "execution_count": 2,
   "id": "65712ea7db493c48",
   "metadata": {
    "ExecuteTime": {
     "end_time": "2024-03-14T16:46:23.929145Z",
     "start_time": "2024-03-14T16:46:19.563021Z"
    },
    "collapsed": false
   },
   "outputs": [],
   "source": [
    "# read data\n",
    "verses_data = \"../data/verses.csv\"\n",
    "gendervoc_data = \"../data/names.csv\"\n",
    "occurrences_data = \"../data/occurrences.csv\"\n",
    "manuscript_data = \"../data/manuscripts.csv\"\n",
    "\n",
    "verses_df = pd.read_csv(verses_data,\n",
    "    low_memory=False,\n",
    "    dtype={\n",
    "        \"docID\": \"Int64\",\n",
    "        \"ga\": \"string\",\n",
    "        \"bkv\": \"string\",\n",
    "        \"text\": \"string\",\n",
    "        \"marks\": \"string\",\n",
    "        \"publisher\": \"string\",\n",
    "        \"source\": \"string\",\n",
    "        \"nkv\": \"string\",\n",
    "        \"ntvmrLink\": \"string\",\n",
    "    },)\n",
    "gendervoc_df = pd.read_csv(\n",
    "    gendervoc_data,\n",
    "    low_memory=False,\n",
    "    dtype={\n",
    "        \"label:en\": \"string\",\n",
    "        \"label:el\": \"string\",\n",
    "        \"gender\": \"string\",\n",
    "        \"factgrid\": \"string\",\n",
    "        \"variant\": \"string\",\n",
    "        \"wordID\": \"Int64\",\n",
    "        \"variantID\": \"Int64\",\n",
    "    },\n",
    ")\n",
    "occurrences_df = pd.read_csv(\n",
    "    occurrences_data,\n",
    "    low_memory=False,\n",
    "    dtype={\n",
    "        \"docID\": \"Int64\",\n",
    "        \"ga\": \"string\",\n",
    "        \"bkv\": \"string\",\n",
    "        \"text\": \"string\",\n",
    "        \"marks\": \"string\",\n",
    "        \"publisher\": \"string\",\n",
    "        \"source\": \"string\",\n",
    "        \"nkv\": \"string\",\n",
    "        \"ntvmrLink\": \"string\",\n",
    "        \"wordID\": \"Int64\",\n",
    "        \"occurrence\": \"boolean\",\n",
    "    },\n",
    ")\n",
    "manuscript_df = pd.read_csv(manuscript_data,\n",
    "    low_memory=False,\n",
    "    dtype={\n",
    "        \"docID\": \"Int64\",\n",
    "        \"originYearLate\": \"Int64\",\n",
    "        \"originYearEarly\": \"Int64\",\n",
    "        \"pagesCount\": \"Int64\",\n",
    "        \"leavesCount\": \"Int64\",\n",
    "        \"ga\": \"string\",\n",
    "        \"century\": \"string\",\n",
    "        \"shelfInstances\": \"string\",\n",
    "        \"source\": \"string\",\n",
    "        \"label\": \"string\",\n",
    "        \"dbpedia\": \"string\",\n",
    "        \"form\": \"string\",\n",
    "        \"found\": \"string\",\n",
    "    },\n",
    ")"
   ]
  },
  {
   "cell_type": "code",
   "execution_count": 3,
   "id": "c00bf81be9c7f6cb",
   "metadata": {
    "ExecuteTime": {
     "end_time": "2024-03-14T16:46:24.058861Z",
     "start_time": "2024-03-14T16:46:23.930208Z"
    },
    "collapsed": false
   },
   "outputs": [],
   "source": [
    "# drop unnecessary columns\n",
    "verses_df.drop(columns=[\"docID\",\"ntvmrLink\"], inplace=True)\n",
    "manuscript_df.drop(\n",
    "    columns=[\"form\", \"shelfInstances\", \"originYearEarly\", \"originYearLate\", \"found\"],\n",
    "    inplace=True,\n",
    ")"
   ]
  },
  {
   "cell_type": "code",
   "execution_count": 4,
   "id": "be67b35eea46853f",
   "metadata": {
    "ExecuteTime": {
     "end_time": "2024-03-14T16:46:28.944791Z",
     "start_time": "2024-03-14T16:46:24.060277Z"
    },
    "collapsed": false
   },
   "outputs": [],
   "source": [
    "# write dataframes to files\n",
    "verses_df.to_csv(\"../data/publish/verses.csv\", index=False)\n",
    "gendervoc_df.to_csv(\"../data/publish/names.csv\", index=False)\n",
    "occurrences_df.to_csv(\"../data/publish/occurrences.csv\", index=False)\n",
    "manuscript_df.to_csv(\"../data/publish/manuscripts.csv\", index=False)"
   ]
  }
 ],
 "metadata": {
  "kernelspec": {
   "display_name": "Python 3",
   "language": "python",
   "name": "python3"
  },
  "language_info": {
   "codemirror_mode": {
    "name": "ipython",
    "version": 2
   },
   "file_extension": ".py",
   "mimetype": "text/x-python",
   "name": "python",
   "nbconvert_exporter": "python",
   "pygments_lexer": "ipython2",
   "version": "2.7.6"
  }
 },
 "nbformat": 4,
 "nbformat_minor": 5
}
